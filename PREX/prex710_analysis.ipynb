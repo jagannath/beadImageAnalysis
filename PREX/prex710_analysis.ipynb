{
 "cells": [
  {
   "cell_type": "code",
   "execution_count": 2,
   "metadata": {},
   "outputs": [
    {
     "data": {
      "text/html": [
       "\n",
       "    <div class=\"bk-root\">\n",
       "        <a href=\"https://bokeh.org\" target=\"_blank\" class=\"bk-logo bk-logo-small bk-logo-notebook\"></a>\n",
       "        <span id=\"1002\">Loading BokehJS ...</span>\n",
       "    </div>"
      ]
     },
     "metadata": {},
     "output_type": "display_data"
    },
    {
     "data": {
      "application/javascript": [
       "\n",
       "(function(root) {\n",
       "  function now() {\n",
       "    return new Date();\n",
       "  }\n",
       "\n",
       "  var force = true;\n",
       "\n",
       "  if (typeof root._bokeh_onload_callbacks === \"undefined\" || force === true) {\n",
       "    root._bokeh_onload_callbacks = [];\n",
       "    root._bokeh_is_loading = undefined;\n",
       "  }\n",
       "\n",
       "  var JS_MIME_TYPE = 'application/javascript';\n",
       "  var HTML_MIME_TYPE = 'text/html';\n",
       "  var EXEC_MIME_TYPE = 'application/vnd.bokehjs_exec.v0+json';\n",
       "  var CLASS_NAME = 'output_bokeh rendered_html';\n",
       "\n",
       "  /**\n",
       "   * Render data to the DOM node\n",
       "   */\n",
       "  function render(props, node) {\n",
       "    var script = document.createElement(\"script\");\n",
       "    node.appendChild(script);\n",
       "  }\n",
       "\n",
       "  /**\n",
       "   * Handle when an output is cleared or removed\n",
       "   */\n",
       "  function handleClearOutput(event, handle) {\n",
       "    var cell = handle.cell;\n",
       "\n",
       "    var id = cell.output_area._bokeh_element_id;\n",
       "    var server_id = cell.output_area._bokeh_server_id;\n",
       "    // Clean up Bokeh references\n",
       "    if (id != null && id in Bokeh.index) {\n",
       "      Bokeh.index[id].model.document.clear();\n",
       "      delete Bokeh.index[id];\n",
       "    }\n",
       "\n",
       "    if (server_id !== undefined) {\n",
       "      // Clean up Bokeh references\n",
       "      var cmd = \"from bokeh.io.state import curstate; print(curstate().uuid_to_server['\" + server_id + \"'].get_sessions()[0].document.roots[0]._id)\";\n",
       "      cell.notebook.kernel.execute(cmd, {\n",
       "        iopub: {\n",
       "          output: function(msg) {\n",
       "            var id = msg.content.text.trim();\n",
       "            if (id in Bokeh.index) {\n",
       "              Bokeh.index[id].model.document.clear();\n",
       "              delete Bokeh.index[id];\n",
       "            }\n",
       "          }\n",
       "        }\n",
       "      });\n",
       "      // Destroy server and session\n",
       "      var cmd = \"import bokeh.io.notebook as ion; ion.destroy_server('\" + server_id + \"')\";\n",
       "      cell.notebook.kernel.execute(cmd);\n",
       "    }\n",
       "  }\n",
       "\n",
       "  /**\n",
       "   * Handle when a new output is added\n",
       "   */\n",
       "  function handleAddOutput(event, handle) {\n",
       "    var output_area = handle.output_area;\n",
       "    var output = handle.output;\n",
       "\n",
       "    // limit handleAddOutput to display_data with EXEC_MIME_TYPE content only\n",
       "    if ((output.output_type != \"display_data\") || (!Object.prototype.hasOwnProperty.call(output.data, EXEC_MIME_TYPE))) {\n",
       "      return\n",
       "    }\n",
       "\n",
       "    var toinsert = output_area.element.find(\".\" + CLASS_NAME.split(' ')[0]);\n",
       "\n",
       "    if (output.metadata[EXEC_MIME_TYPE][\"id\"] !== undefined) {\n",
       "      toinsert[toinsert.length - 1].firstChild.textContent = output.data[JS_MIME_TYPE];\n",
       "      // store reference to embed id on output_area\n",
       "      output_area._bokeh_element_id = output.metadata[EXEC_MIME_TYPE][\"id\"];\n",
       "    }\n",
       "    if (output.metadata[EXEC_MIME_TYPE][\"server_id\"] !== undefined) {\n",
       "      var bk_div = document.createElement(\"div\");\n",
       "      bk_div.innerHTML = output.data[HTML_MIME_TYPE];\n",
       "      var script_attrs = bk_div.children[0].attributes;\n",
       "      for (var i = 0; i < script_attrs.length; i++) {\n",
       "        toinsert[toinsert.length - 1].firstChild.setAttribute(script_attrs[i].name, script_attrs[i].value);\n",
       "        toinsert[toinsert.length - 1].firstChild.textContent = bk_div.children[0].textContent\n",
       "      }\n",
       "      // store reference to server id on output_area\n",
       "      output_area._bokeh_server_id = output.metadata[EXEC_MIME_TYPE][\"server_id\"];\n",
       "    }\n",
       "  }\n",
       "\n",
       "  function register_renderer(events, OutputArea) {\n",
       "\n",
       "    function append_mime(data, metadata, element) {\n",
       "      // create a DOM node to render to\n",
       "      var toinsert = this.create_output_subarea(\n",
       "        metadata,\n",
       "        CLASS_NAME,\n",
       "        EXEC_MIME_TYPE\n",
       "      );\n",
       "      this.keyboard_manager.register_events(toinsert);\n",
       "      // Render to node\n",
       "      var props = {data: data, metadata: metadata[EXEC_MIME_TYPE]};\n",
       "      render(props, toinsert[toinsert.length - 1]);\n",
       "      element.append(toinsert);\n",
       "      return toinsert\n",
       "    }\n",
       "\n",
       "    /* Handle when an output is cleared or removed */\n",
       "    events.on('clear_output.CodeCell', handleClearOutput);\n",
       "    events.on('delete.Cell', handleClearOutput);\n",
       "\n",
       "    /* Handle when a new output is added */\n",
       "    events.on('output_added.OutputArea', handleAddOutput);\n",
       "\n",
       "    /**\n",
       "     * Register the mime type and append_mime function with output_area\n",
       "     */\n",
       "    OutputArea.prototype.register_mime_type(EXEC_MIME_TYPE, append_mime, {\n",
       "      /* Is output safe? */\n",
       "      safe: true,\n",
       "      /* Index of renderer in `output_area.display_order` */\n",
       "      index: 0\n",
       "    });\n",
       "  }\n",
       "\n",
       "  // register the mime type if in Jupyter Notebook environment and previously unregistered\n",
       "  if (root.Jupyter !== undefined) {\n",
       "    var events = require('base/js/events');\n",
       "    var OutputArea = require('notebook/js/outputarea').OutputArea;\n",
       "\n",
       "    if (OutputArea.prototype.mime_types().indexOf(EXEC_MIME_TYPE) == -1) {\n",
       "      register_renderer(events, OutputArea);\n",
       "    }\n",
       "  }\n",
       "\n",
       "  \n",
       "  if (typeof (root._bokeh_timeout) === \"undefined\" || force === true) {\n",
       "    root._bokeh_timeout = Date.now() + 5000;\n",
       "    root._bokeh_failed_load = false;\n",
       "  }\n",
       "\n",
       "  var NB_LOAD_WARNING = {'data': {'text/html':\n",
       "     \"<div style='background-color: #fdd'>\\n\"+\n",
       "     \"<p>\\n\"+\n",
       "     \"BokehJS does not appear to have successfully loaded. If loading BokehJS from CDN, this \\n\"+\n",
       "     \"may be due to a slow or bad network connection. Possible fixes:\\n\"+\n",
       "     \"</p>\\n\"+\n",
       "     \"<ul>\\n\"+\n",
       "     \"<li>re-rerun `output_notebook()` to attempt to load from CDN again, or</li>\\n\"+\n",
       "     \"<li>use INLINE resources instead, as so:</li>\\n\"+\n",
       "     \"</ul>\\n\"+\n",
       "     \"<code>\\n\"+\n",
       "     \"from bokeh.resources import INLINE\\n\"+\n",
       "     \"output_notebook(resources=INLINE)\\n\"+\n",
       "     \"</code>\\n\"+\n",
       "     \"</div>\"}};\n",
       "\n",
       "  function display_loaded() {\n",
       "    var el = document.getElementById(\"1002\");\n",
       "    if (el != null) {\n",
       "      el.textContent = \"BokehJS is loading...\";\n",
       "    }\n",
       "    if (root.Bokeh !== undefined) {\n",
       "      if (el != null) {\n",
       "        el.textContent = \"BokehJS \" + root.Bokeh.version + \" successfully loaded.\";\n",
       "      }\n",
       "    } else if (Date.now() < root._bokeh_timeout) {\n",
       "      setTimeout(display_loaded, 100)\n",
       "    }\n",
       "  }\n",
       "\n",
       "\n",
       "  function run_callbacks() {\n",
       "    try {\n",
       "      root._bokeh_onload_callbacks.forEach(function(callback) {\n",
       "        if (callback != null)\n",
       "          callback();\n",
       "      });\n",
       "    } finally {\n",
       "      delete root._bokeh_onload_callbacks\n",
       "    }\n",
       "    console.debug(\"Bokeh: all callbacks have finished\");\n",
       "  }\n",
       "\n",
       "  function load_libs(css_urls, js_urls, callback) {\n",
       "    if (css_urls == null) css_urls = [];\n",
       "    if (js_urls == null) js_urls = [];\n",
       "\n",
       "    root._bokeh_onload_callbacks.push(callback);\n",
       "    if (root._bokeh_is_loading > 0) {\n",
       "      console.debug(\"Bokeh: BokehJS is being loaded, scheduling callback at\", now());\n",
       "      return null;\n",
       "    }\n",
       "    if (js_urls == null || js_urls.length === 0) {\n",
       "      run_callbacks();\n",
       "      return null;\n",
       "    }\n",
       "    console.debug(\"Bokeh: BokehJS not loaded, scheduling load and callback at\", now());\n",
       "    root._bokeh_is_loading = css_urls.length + js_urls.length;\n",
       "\n",
       "    function on_load() {\n",
       "      root._bokeh_is_loading--;\n",
       "      if (root._bokeh_is_loading === 0) {\n",
       "        console.debug(\"Bokeh: all BokehJS libraries/stylesheets loaded\");\n",
       "        run_callbacks()\n",
       "      }\n",
       "    }\n",
       "\n",
       "    function on_error(url) {\n",
       "      console.error(\"failed to load \" + url);\n",
       "    }\n",
       "\n",
       "    for (let i = 0; i < css_urls.length; i++) {\n",
       "      const url = css_urls[i];\n",
       "      const element = document.createElement(\"link\");\n",
       "      element.onload = on_load;\n",
       "      element.onerror = on_error.bind(null, url);\n",
       "      element.rel = \"stylesheet\";\n",
       "      element.type = \"text/css\";\n",
       "      element.href = url;\n",
       "      console.debug(\"Bokeh: injecting link tag for BokehJS stylesheet: \", url);\n",
       "      document.body.appendChild(element);\n",
       "    }\n",
       "\n",
       "    const hashes = {\"https://cdn.bokeh.org/bokeh/release/bokeh-2.3.0.min.js\": \"HjagQp6T0/7bxYTAXbLotF1MLAGWmhkY5siA1Gc/pcEgvgRPtMsRn0gQtMwGKiw1\", \"https://cdn.bokeh.org/bokeh/release/bokeh-widgets-2.3.0.min.js\": \"ZEPPTjL+mdyqgIq+/pl9KTwzji8Kow2NnI3zWY8+sFinWP/SYJ80BnfeJsa45iYj\", \"https://cdn.bokeh.org/bokeh/release/bokeh-tables-2.3.0.min.js\": \"exLqv2ACDRIaV7ZK1iL8aGzGYQvKVuT3U2CT7FsQREBxRah6JrkVCoFy0koY1YqV\"};\n",
       "\n",
       "    for (let i = 0; i < js_urls.length; i++) {\n",
       "      const url = js_urls[i];\n",
       "      const element = document.createElement('script');\n",
       "      element.onload = on_load;\n",
       "      element.onerror = on_error.bind(null, url);\n",
       "      element.async = false;\n",
       "      element.src = url;\n",
       "      if (url in hashes) {\n",
       "        element.crossOrigin = \"anonymous\";\n",
       "        element.integrity = \"sha384-\" + hashes[url];\n",
       "      }\n",
       "      console.debug(\"Bokeh: injecting script tag for BokehJS library: \", url);\n",
       "      document.head.appendChild(element);\n",
       "    }\n",
       "  };\n",
       "\n",
       "  function inject_raw_css(css) {\n",
       "    const element = document.createElement(\"style\");\n",
       "    element.appendChild(document.createTextNode(css));\n",
       "    document.body.appendChild(element);\n",
       "  }\n",
       "\n",
       "  \n",
       "  var js_urls = [\"https://cdn.bokeh.org/bokeh/release/bokeh-2.3.0.min.js\", \"https://cdn.bokeh.org/bokeh/release/bokeh-widgets-2.3.0.min.js\", \"https://cdn.bokeh.org/bokeh/release/bokeh-tables-2.3.0.min.js\"];\n",
       "  var css_urls = [];\n",
       "  \n",
       "\n",
       "  var inline_js = [\n",
       "    function(Bokeh) {\n",
       "      Bokeh.set_log_level(\"info\");\n",
       "    },\n",
       "    function(Bokeh) {\n",
       "    \n",
       "    \n",
       "    }\n",
       "  ];\n",
       "\n",
       "  function run_inline_js() {\n",
       "    \n",
       "    if (root.Bokeh !== undefined || force === true) {\n",
       "      \n",
       "    for (var i = 0; i < inline_js.length; i++) {\n",
       "      inline_js[i].call(root, root.Bokeh);\n",
       "    }\n",
       "    if (force === true) {\n",
       "        display_loaded();\n",
       "      }} else if (Date.now() < root._bokeh_timeout) {\n",
       "      setTimeout(run_inline_js, 100);\n",
       "    } else if (!root._bokeh_failed_load) {\n",
       "      console.log(\"Bokeh: BokehJS failed to load within specified timeout.\");\n",
       "      root._bokeh_failed_load = true;\n",
       "    } else if (force !== true) {\n",
       "      var cell = $(document.getElementById(\"1002\")).parents('.cell').data().cell;\n",
       "      cell.output_area.append_execute_result(NB_LOAD_WARNING)\n",
       "    }\n",
       "\n",
       "  }\n",
       "\n",
       "  if (root._bokeh_is_loading === 0) {\n",
       "    console.debug(\"Bokeh: BokehJS loaded, going straight to plotting\");\n",
       "    run_inline_js();\n",
       "  } else {\n",
       "    load_libs(css_urls, js_urls, function() {\n",
       "      console.debug(\"Bokeh: BokehJS plotting callback run at\", now());\n",
       "      run_inline_js();\n",
       "    });\n",
       "  }\n",
       "}(window));"
      ],
      "application/vnd.bokehjs_load.v0+json": "\n(function(root) {\n  function now() {\n    return new Date();\n  }\n\n  var force = true;\n\n  if (typeof root._bokeh_onload_callbacks === \"undefined\" || force === true) {\n    root._bokeh_onload_callbacks = [];\n    root._bokeh_is_loading = undefined;\n  }\n\n  \n\n  \n  if (typeof (root._bokeh_timeout) === \"undefined\" || force === true) {\n    root._bokeh_timeout = Date.now() + 5000;\n    root._bokeh_failed_load = false;\n  }\n\n  var NB_LOAD_WARNING = {'data': {'text/html':\n     \"<div style='background-color: #fdd'>\\n\"+\n     \"<p>\\n\"+\n     \"BokehJS does not appear to have successfully loaded. If loading BokehJS from CDN, this \\n\"+\n     \"may be due to a slow or bad network connection. Possible fixes:\\n\"+\n     \"</p>\\n\"+\n     \"<ul>\\n\"+\n     \"<li>re-rerun `output_notebook()` to attempt to load from CDN again, or</li>\\n\"+\n     \"<li>use INLINE resources instead, as so:</li>\\n\"+\n     \"</ul>\\n\"+\n     \"<code>\\n\"+\n     \"from bokeh.resources import INLINE\\n\"+\n     \"output_notebook(resources=INLINE)\\n\"+\n     \"</code>\\n\"+\n     \"</div>\"}};\n\n  function display_loaded() {\n    var el = document.getElementById(\"1002\");\n    if (el != null) {\n      el.textContent = \"BokehJS is loading...\";\n    }\n    if (root.Bokeh !== undefined) {\n      if (el != null) {\n        el.textContent = \"BokehJS \" + root.Bokeh.version + \" successfully loaded.\";\n      }\n    } else if (Date.now() < root._bokeh_timeout) {\n      setTimeout(display_loaded, 100)\n    }\n  }\n\n\n  function run_callbacks() {\n    try {\n      root._bokeh_onload_callbacks.forEach(function(callback) {\n        if (callback != null)\n          callback();\n      });\n    } finally {\n      delete root._bokeh_onload_callbacks\n    }\n    console.debug(\"Bokeh: all callbacks have finished\");\n  }\n\n  function load_libs(css_urls, js_urls, callback) {\n    if (css_urls == null) css_urls = [];\n    if (js_urls == null) js_urls = [];\n\n    root._bokeh_onload_callbacks.push(callback);\n    if (root._bokeh_is_loading > 0) {\n      console.debug(\"Bokeh: BokehJS is being loaded, scheduling callback at\", now());\n      return null;\n    }\n    if (js_urls == null || js_urls.length === 0) {\n      run_callbacks();\n      return null;\n    }\n    console.debug(\"Bokeh: BokehJS not loaded, scheduling load and callback at\", now());\n    root._bokeh_is_loading = css_urls.length + js_urls.length;\n\n    function on_load() {\n      root._bokeh_is_loading--;\n      if (root._bokeh_is_loading === 0) {\n        console.debug(\"Bokeh: all BokehJS libraries/stylesheets loaded\");\n        run_callbacks()\n      }\n    }\n\n    function on_error(url) {\n      console.error(\"failed to load \" + url);\n    }\n\n    for (let i = 0; i < css_urls.length; i++) {\n      const url = css_urls[i];\n      const element = document.createElement(\"link\");\n      element.onload = on_load;\n      element.onerror = on_error.bind(null, url);\n      element.rel = \"stylesheet\";\n      element.type = \"text/css\";\n      element.href = url;\n      console.debug(\"Bokeh: injecting link tag for BokehJS stylesheet: \", url);\n      document.body.appendChild(element);\n    }\n\n    const hashes = {\"https://cdn.bokeh.org/bokeh/release/bokeh-2.3.0.min.js\": \"HjagQp6T0/7bxYTAXbLotF1MLAGWmhkY5siA1Gc/pcEgvgRPtMsRn0gQtMwGKiw1\", \"https://cdn.bokeh.org/bokeh/release/bokeh-widgets-2.3.0.min.js\": \"ZEPPTjL+mdyqgIq+/pl9KTwzji8Kow2NnI3zWY8+sFinWP/SYJ80BnfeJsa45iYj\", \"https://cdn.bokeh.org/bokeh/release/bokeh-tables-2.3.0.min.js\": \"exLqv2ACDRIaV7ZK1iL8aGzGYQvKVuT3U2CT7FsQREBxRah6JrkVCoFy0koY1YqV\"};\n\n    for (let i = 0; i < js_urls.length; i++) {\n      const url = js_urls[i];\n      const element = document.createElement('script');\n      element.onload = on_load;\n      element.onerror = on_error.bind(null, url);\n      element.async = false;\n      element.src = url;\n      if (url in hashes) {\n        element.crossOrigin = \"anonymous\";\n        element.integrity = \"sha384-\" + hashes[url];\n      }\n      console.debug(\"Bokeh: injecting script tag for BokehJS library: \", url);\n      document.head.appendChild(element);\n    }\n  };\n\n  function inject_raw_css(css) {\n    const element = document.createElement(\"style\");\n    element.appendChild(document.createTextNode(css));\n    document.body.appendChild(element);\n  }\n\n  \n  var js_urls = [\"https://cdn.bokeh.org/bokeh/release/bokeh-2.3.0.min.js\", \"https://cdn.bokeh.org/bokeh/release/bokeh-widgets-2.3.0.min.js\", \"https://cdn.bokeh.org/bokeh/release/bokeh-tables-2.3.0.min.js\"];\n  var css_urls = [];\n  \n\n  var inline_js = [\n    function(Bokeh) {\n      Bokeh.set_log_level(\"info\");\n    },\n    function(Bokeh) {\n    \n    \n    }\n  ];\n\n  function run_inline_js() {\n    \n    if (root.Bokeh !== undefined || force === true) {\n      \n    for (var i = 0; i < inline_js.length; i++) {\n      inline_js[i].call(root, root.Bokeh);\n    }\n    if (force === true) {\n        display_loaded();\n      }} else if (Date.now() < root._bokeh_timeout) {\n      setTimeout(run_inline_js, 100);\n    } else if (!root._bokeh_failed_load) {\n      console.log(\"Bokeh: BokehJS failed to load within specified timeout.\");\n      root._bokeh_failed_load = true;\n    } else if (force !== true) {\n      var cell = $(document.getElementById(\"1002\")).parents('.cell').data().cell;\n      cell.output_area.append_execute_result(NB_LOAD_WARNING)\n    }\n\n  }\n\n  if (root._bokeh_is_loading === 0) {\n    console.debug(\"Bokeh: BokehJS loaded, going straight to plotting\");\n    run_inline_js();\n  } else {\n    load_libs(css_urls, js_urls, function() {\n      console.debug(\"Bokeh: BokehJS plotting callback run at\", now());\n      run_inline_js();\n    });\n  }\n}(window));"
     },
     "metadata": {},
     "output_type": "display_data"
    },
    {
     "name": "stdout",
     "output_type": "stream",
     "text": [
      "Pandas version: 1.1.4\n",
      "nd2 reader version: 3.2.3\n"
     ]
    }
   ],
   "source": [
    "import sys\n",
    "import os\n",
    "import warnings\n",
    "import pandas as pd\n",
    "from IPython.display import display\n",
    "import glob\n",
    "from tqdm import tqdm_notebook,trange, tqdm \n",
    "import numpy as np\n",
    "from bokeh.io import output_notebook, show\n",
    "from bokeh.plotting import figure\n",
    "warnings.simplefilter('ignore',DeprecationWarning)\n",
    "# This should be fine if tqdm not updated; it is the tqdm_notebook thats crying\n",
    "\n",
    "output_notebook()\n",
    "\n",
    "#### MY MODULES ####\n",
    "import site\n",
    "site.addsitedir('../modules/') #Looking for the module differently; I know there is something more elegant\n",
    "import mymodules\n",
    "from bead_detection import Bead, Beads, analyze_beads_image #Explicitly calling them out"
   ]
  },
  {
   "cell_type": "code",
   "execution_count": 46,
   "metadata": {},
   "outputs": [],
   "source": [
    "class Test_bead_detection(object):\n",
    "    \"\"\"\n",
    "    A very specific case to test the initial build; Will work on it to incorporate multiple unittests\n",
    "    TODO: A more larger scale test to ensure non NaNs etc in pandas\n",
    "    \"\"\"\n",
    "    def __init__(self):\n",
    "        self.test_image_folder = self.get_image_folder()\n",
    "#         self.test_image_fpath = self.get_image()\n",
    "#         assert (os.path.isfile(os.path.join(self.test_image_fpath)))\n",
    "        self.test_params = self.get_default_params()\n",
    "        self.export_folder_path = self.test_params['export_folder']\n",
    "        #self.imageCount = 0\n",
    "\n",
    "    def get_image_folder(self):\n",
    "        #Hardcoding the folder structure to expect\n",
    "        image_folder = os.path.join(os.getcwd(),'Prex710') \n",
    "        return image_folder\n",
    "    \n",
    "    def get_image(self,image_file):\n",
    "        image_fpath = os.path.join(self.test_image_folder,image_file)\n",
    "        return image_fpath\n",
    "    \n",
    "    def get_default_params(self):\n",
    "        ##################### \n",
    "        ## Default parameters for the Test script  Hardcoded ###\n",
    "        hough_params = dict(dp=1.5,minDist=250,param1=45,param2=45,minRadius=100,maxRadius=700)\n",
    "        preprocessing_params = ('median',5) #Someday going or will need to make it better\n",
    "        save_status = 'both' #save_status = ['data','mask','both','None']\n",
    "        export_folder_path = os.path.join(self.test_image_folder,'test_data_export')\n",
    "        #Ensure that there is no export files/folders in the export directory and start clean \n",
    "        import shutil\n",
    "        if os.path.isdir(export_folder_path): shutil.rmtree(export_folder_path,ignore_errors=True)\n",
    "        # Export folder because it is test; Else should be sent as key:value in params in the argparse or a default\n",
    "        ####################\n",
    "        ## Parameters to be passed\n",
    "        params = dict(hough_params=hough_params, \n",
    "                      preprocessing_params=preprocessing_params, \n",
    "                      save_status=save_status,\n",
    "                      export_folder=export_folder_path)\n",
    "        return params\n",
    "    \n",
    "    def integrated_test(self):\n",
    "        '''A simple test (because I did it so many times) to check\n",
    "        that there are csv and png files in the export folder;\n",
    "        '''\n",
    "        all_png = mymodules.get_fpaths(self.export_folder_path,'.png')\n",
    "        all_csv = mymodules.get_fpaths(self.export_folder_path,'.csv')\n",
    "        return (len(all_png),len(all_csv))\n",
    "    \n",
    "    def test_nd2file(self,f_path):\n",
    "        status, test_data_frame = analyze_beads_image(f_path, **self.test_params)\n",
    "        return True, test_data_frame\n",
    "    \n",
    "    def test_nd2folder(self):\n",
    "        all_test_nd2_fpaths = mymodules.get_fpaths(self.test_image_folder,'nd2')\n",
    "        all_test_nd2_fpaths.sort()\n",
    "        \n",
    "        tqdm_descriptor = \"Processing folder : \"\n",
    "        tqdm_color_blue = '#0D4F8B'\n",
    "        \n",
    "        counter = 0\n",
    "        for counter in tqdm_notebook(range(len(all_test_nd2_fpaths)), \n",
    "                                     desc=tqdm_descriptor, colour=tqdm_color_blue, position=0):\n",
    "            nd2_fpath = all_test_nd2_fpaths[counter]\n",
    "            status, test_dataframe = self.test_nd2file(nd2_fpath) #Just keep shuttling kwargs around\n",
    "            counter+=1\n",
    "        print(\"Completed images in folder : {0}\".format(self.test_image_folder))\n",
    "        return True, self.test_image_folder"
   ]
  },
  {
   "cell_type": "code",
   "execution_count": 47,
   "metadata": {},
   "outputs": [],
   "source": [
    "def run_test(*args,**kwargs):\n",
    "    check_status = False\n",
    "    test = Test_bead_detection()\n",
    "    if args[0] == 'nd2file':\n",
    "        check_status, test_dataframe = test.test_nd2file(test.get_image(args[1]))\n",
    "        file_count_test = test.integrated_test()\n",
    "        if (file_count_test) == (2,1):\n",
    "            check_status = True\n",
    "        else: check_status = False\n",
    "    elif args[0] == 'nd2folder':\n",
    "        check_status, test_image_folder = test.test_nd2folder()\n",
    "        file_count_test = test.integrated_test()\n",
    "        if (file_count_test) == (32,16): # TODO do not hardcode this\n",
    "            check_status = True\n",
    "        else: check_status = False\n",
    "    else:\n",
    "        print(\"INVALID PARAMETER\")\n",
    "        return False\n",
    "    \n",
    "    return check_status"
   ]
  },
  {
   "cell_type": "code",
   "execution_count": 48,
   "metadata": {},
   "outputs": [
    {
     "data": {
      "application/vnd.jupyter.widget-view+json": {
       "model_id": "",
       "version_major": 2,
       "version_minor": 0
      },
      "text/plain": [
       "HBox(children=(HTML(value='Analyzing beads 201015_TGNH2_Prex710_BASE_10X_200ms_flds025.nd2: '), FloatProgress(…"
      ]
     },
     "metadata": {},
     "output_type": "display_data"
    },
    {
     "name": "stdout",
     "output_type": "stream",
     "text": [
      "SUCCESS!! \n"
     ]
    }
   ],
   "source": [
    "test_filename = \"201015_TGNH2_Prex710_BASE_10X_200ms_flds025.nd2\"\n",
    "if run_test('nd2file',test_filename):\n",
    "    print(\"SUCCESS!! \")"
   ]
  },
  {
   "cell_type": "code",
   "execution_count": 49,
   "metadata": {},
   "outputs": [
    {
     "data": {
      "application/vnd.jupyter.widget-view+json": {
       "model_id": "05538df803fa415597201b98ab54f8de",
       "version_major": 2,
       "version_minor": 0
      },
      "text/plain": [
       "HBox(children=(HTML(value='Processing folder : '), FloatProgress(value=0.0, max=16.0), HTML(value='')))"
      ]
     },
     "metadata": {},
     "output_type": "display_data"
    },
    {
     "data": {
      "application/vnd.jupyter.widget-view+json": {
       "model_id": "",
       "version_major": 2,
       "version_minor": 0
      },
      "text/plain": [
       "HBox(children=(HTML(value='Analyzing beads 201015_TGNH2_Prex710_BASE_10X_200ms_flds025.nd2: '), FloatProgress(…"
      ]
     },
     "metadata": {},
     "output_type": "display_data"
    },
    {
     "data": {
      "application/vnd.jupyter.widget-view+json": {
       "model_id": "",
       "version_major": 2,
       "version_minor": 0
      },
      "text/plain": [
       "HBox(children=(HTML(value='Analyzing beads 201015_TGNH2_Prex710_BASE_10X_200ms_flds026.nd2: '), FloatProgress(…"
      ]
     },
     "metadata": {},
     "output_type": "display_data"
    },
    {
     "data": {
      "application/vnd.jupyter.widget-view+json": {
       "model_id": "",
       "version_major": 2,
       "version_minor": 0
      },
      "text/plain": [
       "HBox(children=(HTML(value='Analyzing beads 201015_TGNH2_Prex710_BASE_10X_200ms_flds027.nd2: '), FloatProgress(…"
      ]
     },
     "metadata": {},
     "output_type": "display_data"
    },
    {
     "data": {
      "application/vnd.jupyter.widget-view+json": {
       "model_id": "",
       "version_major": 2,
       "version_minor": 0
      },
      "text/plain": [
       "HBox(children=(HTML(value='Analyzing beads 201015_TGNH2_Prex710_BASE_10X_200ms_flds028.nd2: '), FloatProgress(…"
      ]
     },
     "metadata": {},
     "output_type": "display_data"
    },
    {
     "data": {
      "application/vnd.jupyter.widget-view+json": {
       "model_id": "",
       "version_major": 2,
       "version_minor": 0
      },
      "text/plain": [
       "HBox(children=(HTML(value='Analyzing beads 201015_TGNH2_Prex710_MEOH_10X_200ms_flds019.nd2: '), FloatProgress(…"
      ]
     },
     "metadata": {},
     "output_type": "display_data"
    },
    {
     "data": {
      "application/vnd.jupyter.widget-view+json": {
       "model_id": "",
       "version_major": 2,
       "version_minor": 0
      },
      "text/plain": [
       "HBox(children=(HTML(value='Analyzing beads 201015_TGNH2_Prex710_MEOH_10X_200ms_flds020.nd2: '), FloatProgress(…"
      ]
     },
     "metadata": {},
     "output_type": "display_data"
    },
    {
     "data": {
      "application/vnd.jupyter.widget-view+json": {
       "model_id": "",
       "version_major": 2,
       "version_minor": 0
      },
      "text/plain": [
       "HBox(children=(HTML(value='Analyzing beads 201015_TGNH2_Prex710_MEOH_10X_200ms_flds021.nd2: '), FloatProgress(…"
      ]
     },
     "metadata": {},
     "output_type": "display_data"
    },
    {
     "data": {
      "application/vnd.jupyter.widget-view+json": {
       "model_id": "",
       "version_major": 2,
       "version_minor": 0
      },
      "text/plain": [
       "HBox(children=(HTML(value='Analyzing beads 201015_TGNH2_Prex710_PIP_10X_200ms_flds030.nd2: '), FloatProgress(v…"
      ]
     },
     "metadata": {},
     "output_type": "display_data"
    },
    {
     "data": {
      "application/vnd.jupyter.widget-view+json": {
       "model_id": "",
       "version_major": 2,
       "version_minor": 0
      },
      "text/plain": [
       "HBox(children=(HTML(value='Analyzing beads 201015_TGNH2_Prex710_PIP_10X_200ms_flds031.nd2: '), FloatProgress(v…"
      ]
     },
     "metadata": {},
     "output_type": "display_data"
    },
    {
     "data": {
      "application/vnd.jupyter.widget-view+json": {
       "model_id": "",
       "version_major": 2,
       "version_minor": 0
      },
      "text/plain": [
       "HBox(children=(HTML(value='Analyzing beads 201015_TGNH2_Prex710_PIP_10X_200ms_flds032.nd2: '), FloatProgress(v…"
      ]
     },
     "metadata": {},
     "output_type": "display_data"
    },
    {
     "data": {
      "application/vnd.jupyter.widget-view+json": {
       "model_id": "",
       "version_major": 2,
       "version_minor": 0
      },
      "text/plain": [
       "HBox(children=(HTML(value='Analyzing beads 201015_TGNH2_Prex710_PITC_10X_200ms_flds033.nd2: '), FloatProgress(…"
      ]
     },
     "metadata": {},
     "output_type": "display_data"
    },
    {
     "data": {
      "application/vnd.jupyter.widget-view+json": {
       "model_id": "",
       "version_major": 2,
       "version_minor": 0
      },
      "text/plain": [
       "HBox(children=(HTML(value='Analyzing beads 201015_TGNH2_Prex710_PITC_10X_200ms_flds034.nd2: '), FloatProgress(…"
      ]
     },
     "metadata": {},
     "output_type": "display_data"
    },
    {
     "data": {
      "application/vnd.jupyter.widget-view+json": {
       "model_id": "",
       "version_major": 2,
       "version_minor": 0
      },
      "text/plain": [
       "HBox(children=(HTML(value='Analyzing beads 201015_TGNH2_Prex710_PITC_10X_200ms_flds035.nd2: '), FloatProgress(…"
      ]
     },
     "metadata": {},
     "output_type": "display_data"
    },
    {
     "data": {
      "application/vnd.jupyter.widget-view+json": {
       "model_id": "",
       "version_major": 2,
       "version_minor": 0
      },
      "text/plain": [
       "HBox(children=(HTML(value='Analyzing beads 201015_TGNH2_Prex710_TFA_10X_200ms_flds022.nd2: '), FloatProgress(v…"
      ]
     },
     "metadata": {},
     "output_type": "display_data"
    },
    {
     "data": {
      "application/vnd.jupyter.widget-view+json": {
       "model_id": "",
       "version_major": 2,
       "version_minor": 0
      },
      "text/plain": [
       "HBox(children=(HTML(value='Analyzing beads 201015_TGNH2_Prex710_TFA_10X_200ms_flds023.nd2: '), FloatProgress(v…"
      ]
     },
     "metadata": {},
     "output_type": "display_data"
    },
    {
     "data": {
      "application/vnd.jupyter.widget-view+json": {
       "model_id": "",
       "version_major": 2,
       "version_minor": 0
      },
      "text/plain": [
       "HBox(children=(HTML(value='Analyzing beads 201015_TGNH2_Prex710_TFA_10X_200ms_flds024.nd2: '), FloatProgress(v…"
      ]
     },
     "metadata": {},
     "output_type": "display_data"
    },
    {
     "name": "stdout",
     "output_type": "stream",
     "text": [
      "\n",
      "Completed images in folder : C:\\Users\\hosfo\\Documents\\GitHub\\beadImageAnalysis\\PREX\\Prex710\n",
      "Success\n"
     ]
    }
   ],
   "source": [
    "result = run_test('nd2folder')\n",
    "if(result):\n",
    "    print(\"Success\")"
   ]
  },
  {
   "cell_type": "code",
   "execution_count": 7,
   "metadata": {},
   "outputs": [
    {
     "data": {
      "text/html": [
       "\n",
       "\n",
       "\n",
       "\n",
       "\n",
       "\n",
       "  <div class=\"bk-root\" id=\"161988ff-44cc-4871-a2c7-032dfa0f1899\" data-root-id=\"2118\"></div>\n"
      ]
     },
     "metadata": {},
     "output_type": "display_data"
    },
    {
     "data": {
      "application/javascript": [
       "(function(root) {\n",
       "  function embed_document(root) {\n",
       "    \n",
       "  var docs_json = {\"62223d57-6e0c-4f5d-b7ad-c32e8e574536\":{\"defs\":[{\"extends\":null,\"module\":null,\"name\":\"DataModel\",\"overrides\":[],\"properties\":[]}],\"roots\":{\"references\":[{\"attributes\":{\"background_fill_color\":null,\"below\":[{\"id\":\"2129\"}],\"border_fill_color\":null,\"center\":[{\"id\":\"2131\"},{\"id\":\"2135\"}],\"left\":[{\"id\":\"2132\"}],\"renderers\":[{\"id\":\"2156\"},{\"id\":\"2161\"},{\"id\":\"2166\"},{\"id\":\"2171\"},{\"id\":\"2176\"},{\"id\":\"2181\"}],\"right\":[{\"id\":\"2183\"}],\"title\":{\"id\":\"2119\"},\"toolbar\":{\"id\":\"2143\"},\"width\":800,\"x_range\":{\"id\":\"2121\"},\"x_scale\":{\"id\":\"2125\"},\"y_range\":{\"id\":\"2123\"},\"y_scale\":{\"id\":\"2127\"}},\"id\":\"2118\",\"subtype\":\"Figure\",\"type\":\"Plot\"},{\"attributes\":{},\"id\":\"2266\",\"type\":\"Selection\"},{\"attributes\":{},\"id\":\"2141\",\"type\":\"HelpTool\"},{\"attributes\":{},\"id\":\"2137\",\"type\":\"WheelZoomTool\"},{\"attributes\":{\"fill_alpha\":{\"value\":0.1},\"fill_color\":{\"value\":\"#28364A\"},\"line_alpha\":{\"value\":0.1},\"line_color\":{\"value\":\"#28364A\"},\"top\":{\"field\":\"iCircle Mean Intensity\"},\"width\":{\"value\":0.2},\"x\":{\"field\":\"Condition\",\"transform\":{\"id\":\"2152\"}}},\"id\":\"2165\",\"type\":\"VBar\"},{\"attributes\":{},\"id\":\"2136\",\"type\":\"PanTool\"},{\"attributes\":{\"label\":{\"value\":\"iCircle Mean Intensity\"},\"renderers\":[{\"id\":\"2181\"}]},\"id\":\"2186\",\"type\":\"LegendItem\"},{\"attributes\":{\"source\":{\"id\":\"2117\"}},\"id\":\"2162\",\"type\":\"CDSView\"},{\"attributes\":{\"overlay\":{\"id\":\"2142\"}},\"id\":\"2138\",\"type\":\"BoxZoomTool\"},{\"attributes\":{\"axis\":{\"id\":\"2132\"},\"dimension\":1,\"ticker\":null},\"id\":\"2135\",\"type\":\"Grid\"},{\"attributes\":{},\"id\":\"2261\",\"type\":\"UnionRenderers\"},{\"attributes\":{},\"id\":\"2139\",\"type\":\"SaveTool\"},{\"attributes\":{},\"id\":\"2252\",\"type\":\"BasicTickFormatter\"},{\"attributes\":{},\"id\":\"2140\",\"type\":\"ResetTool\"},{\"attributes\":{},\"id\":\"2125\",\"type\":\"CategoricalScale\"},{\"attributes\":{},\"id\":\"2253\",\"type\":\"AllLabels\"},{\"attributes\":{},\"id\":\"2259\",\"type\":\"UnionRenderers\"},{\"attributes\":{\"active_multi\":null,\"tools\":[{\"id\":\"2136\"},{\"id\":\"2137\"},{\"id\":\"2138\"},{\"id\":\"2139\"},{\"id\":\"2140\"},{\"id\":\"2141\"}]},\"id\":\"2143\",\"type\":\"Toolbar\"},{\"attributes\":{\"data\":{\"Condition\":[\"MeOH\",\"TFA\",\"BASE\",\"PIP\",\"PITC\"],\"Ring Intensity\":{\"__ndarray__\":\"vd0IKoENoUE+Q3jF3LWjQVVVFS3OtqJB2eBiya2epEGhNjFOcdWhQQ==\",\"dtype\":\"float64\",\"order\":\"little\",\"shape\":[5]},\"Ring Mean Intensity\":{\"__ndarray__\":\"B1YQ19WptECnVjBaN/S3QOkfKPeHCLZAxWJQBRxVt0BAJ1+Xob+1QA==\",\"dtype\":\"float64\",\"order\":\"little\",\"shape\":[5]},\"Ring Median Intensity\":{\"__ndarray__\":\"/Em5M3c3tUAplTAxPj+4QCEiIiICVrZAROYOmbvQuUDQ5ZXsbJu2QA==\",\"dtype\":\"float64\",\"order\":\"little\",\"shape\":[5]},\"iCircle Intensity\":{\"__ndarray__\":\"56NNYRX8tUFpmEHwXm25QSIi8pbg1bZBbdu2GLe5uEGbmMK41y25QQ==\",\"dtype\":\"float64\",\"order\":\"little\",\"shape\":[5]},\"iCircle Mean Intensity\":{\"__ndarray__\":\"h2XgMia3y0A18U1yWtXPQGXOv7vP4spAwQLVKT2czEAYy1OEesjPQA==\",\"dtype\":\"float64\",\"order\":\"little\",\"shape\":[5]},\"iCircle Median Intensity\":{\"__ndarray__\":\"4ENlcMkNzUA/aZnLg5HQQEREREQQ5ctAg4sNLjabzkC1AtYKOAzPQA==\",\"dtype\":\"float64\",\"order\":\"little\",\"shape\":[5]},\"index\":[6,15,3,9,12],\"oCircle Intensity\":{\"__ndarray__\":\"kU7YU0VIqUHQKPEnTx6rQXh31/xs/KtBbXCxw53vr0FzlXMmab2pQQ==\",\"dtype\":\"float64\",\"order\":\"little\",\"shape\":[5]},\"oCircle Mean Intensity\":{\"__ndarray__\":\"G0ucWhYSrkCr9RXXwYmwQI7qKdwDo69ApFzLe1LEsUDvz68IoBOwQA==\",\"dtype\":\"float64\",\"order\":\"little\",\"shape\":[5]},\"oCircle Median Intensity\":{\"__ndarray__\":\"b3rTm36+rECEpWwVtE+vQAAAAABAEa5AYRiGYRjtsEAj7DNberCuQA==\",\"dtype\":\"float64\",\"order\":\"little\",\"shape\":[5]}},\"selected\":{\"id\":\"2260\"},\"selection_policy\":{\"id\":\"2259\"}},\"id\":\"2117\",\"type\":\"ColumnDataSource\"},{\"attributes\":{\"data\":{},\"selected\":{\"id\":\"2264\"},\"selection_policy\":{\"id\":\"2263\"}},\"id\":\"2173\",\"type\":\"ColumnDataSource\"},{\"attributes\":{},\"id\":\"2260\",\"type\":\"Selection\"},{\"attributes\":{},\"id\":\"2262\",\"type\":\"Selection\"},{\"attributes\":{\"fill_color\":{\"value\":\"#28364A\"},\"line_color\":{\"value\":\"#28364A\"},\"top\":{\"field\":\"iCircle Mean Intensity\"},\"width\":{\"value\":0.2},\"x\":{\"field\":\"Condition\",\"transform\":{\"id\":\"2152\"}}},\"id\":\"2164\",\"type\":\"VBar\"},{\"attributes\":{\"source\":{\"id\":\"2173\"}},\"id\":\"2177\",\"type\":\"CDSView\"},{\"attributes\":{\"formatter\":{\"id\":\"2255\"},\"major_label_policy\":{\"id\":\"2256\"},\"ticker\":{\"id\":\"2130\"}},\"id\":\"2129\",\"type\":\"CategoricalAxis\"},{\"attributes\":{\"bottom_units\":\"screen\",\"fill_alpha\":0.5,\"fill_color\":\"lightgrey\",\"left_units\":\"screen\",\"level\":\"overlay\",\"line_alpha\":1.0,\"line_color\":\"black\",\"line_dash\":[4,4],\"line_width\":2,\"right_units\":\"screen\",\"syncable\":false,\"top_units\":\"screen\"},\"id\":\"2142\",\"type\":\"BoxAnnotation\"},{\"attributes\":{\"fill_color\":{\"value\":\"#F7C45F\"},\"line_color\":{\"value\":\"#F7C45F\"},\"top\":{\"field\":\"Ring Mean Intensity\"},\"width\":{\"value\":0.2},\"x\":{\"field\":\"Condition\",\"transform\":{\"id\":\"2151\"}}},\"id\":\"2159\",\"type\":\"VBar\"},{\"attributes\":{\"fill_alpha\":{\"value\":0.1},\"fill_color\":{\"value\":\"#F7C45F\"},\"line_alpha\":{\"value\":0.1},\"line_color\":{\"value\":\"#F7C45F\"},\"marker\":{\"value\":\"square\"}},\"id\":\"2175\",\"type\":\"Scatter\"},{\"attributes\":{},\"id\":\"2130\",\"type\":\"CategoricalTicker\"},{\"attributes\":{\"source\":{\"id\":\"2117\"}},\"id\":\"2157\",\"type\":\"CDSView\"},{\"attributes\":{\"data_source\":{\"id\":\"2178\"},\"glyph\":{\"id\":\"2179\"},\"hover_glyph\":null,\"muted_glyph\":null,\"nonselection_glyph\":{\"id\":\"2180\"},\"view\":{\"id\":\"2182\"}},\"id\":\"2181\",\"type\":\"GlyphRenderer\"},{\"attributes\":{\"fill_color\":{\"value\":\"#D65353\"},\"line_color\":{\"value\":\"#D65353\"},\"top\":{\"field\":\"oCircle Mean Intensity\"},\"width\":{\"value\":0.2},\"x\":{\"field\":\"Condition\",\"transform\":{\"id\":\"2150\"}}},\"id\":\"2154\",\"type\":\"VBar\"},{\"attributes\":{\"data\":{},\"selected\":{\"id\":\"2266\"},\"selection_policy\":{\"id\":\"2265\"}},\"id\":\"2178\",\"type\":\"ColumnDataSource\"},{\"attributes\":{\"axis\":{\"id\":\"2129\"},\"ticker\":null},\"id\":\"2131\",\"type\":\"Grid\"},{\"attributes\":{\"fill_color\":{\"value\":\"#F7C45F\"},\"line_color\":{\"value\":\"#F7C45F\"},\"marker\":{\"value\":\"square\"}},\"id\":\"2174\",\"type\":\"Scatter\"},{\"attributes\":{\"fill_alpha\":{\"value\":0.1},\"fill_color\":{\"value\":\"#D65353\"},\"line_alpha\":{\"value\":0.1},\"line_color\":{\"value\":\"#D65353\"},\"marker\":{\"value\":\"square\"}},\"id\":\"2170\",\"type\":\"Scatter\"},{\"attributes\":{\"fill_color\":{\"value\":\"#28364A\"},\"line_color\":{\"value\":\"#28364A\"},\"marker\":{\"value\":\"square\"}},\"id\":\"2179\",\"type\":\"Scatter\"},{\"attributes\":{\"fill_alpha\":{\"value\":0.1},\"fill_color\":{\"value\":\"#D65353\"},\"line_alpha\":{\"value\":0.1},\"line_color\":{\"value\":\"#D65353\"},\"top\":{\"field\":\"oCircle Mean Intensity\"},\"width\":{\"value\":0.2},\"x\":{\"field\":\"Condition\",\"transform\":{\"id\":\"2150\"}}},\"id\":\"2155\",\"type\":\"VBar\"},{\"attributes\":{\"fill_alpha\":{\"value\":0.1},\"fill_color\":{\"value\":\"#28364A\"},\"line_alpha\":{\"value\":0.1},\"line_color\":{\"value\":\"#28364A\"},\"marker\":{\"value\":\"square\"}},\"id\":\"2180\",\"type\":\"Scatter\"},{\"attributes\":{\"data_source\":{\"id\":\"2173\"},\"glyph\":{\"id\":\"2174\"},\"hover_glyph\":null,\"muted_glyph\":null,\"nonselection_glyph\":{\"id\":\"2175\"},\"view\":{\"id\":\"2177\"}},\"id\":\"2176\",\"type\":\"GlyphRenderer\"},{\"attributes\":{\"formatter\":{\"id\":\"2252\"},\"major_label_policy\":{\"id\":\"2253\"},\"ticker\":{\"id\":\"2133\"}},\"id\":\"2132\",\"type\":\"LinearAxis\"},{\"attributes\":{\"data_source\":{\"id\":\"2117\"},\"glyph\":{\"id\":\"2154\"},\"hover_glyph\":null,\"muted_glyph\":null,\"nonselection_glyph\":{\"id\":\"2155\"},\"view\":{\"id\":\"2157\"}},\"id\":\"2156\",\"type\":\"GlyphRenderer\"},{\"attributes\":{\"data_source\":{\"id\":\"2168\"},\"glyph\":{\"id\":\"2169\"},\"hover_glyph\":null,\"muted_glyph\":null,\"nonselection_glyph\":{\"id\":\"2170\"},\"view\":{\"id\":\"2172\"}},\"id\":\"2171\",\"type\":\"GlyphRenderer\"},{\"attributes\":{\"data_source\":{\"id\":\"2117\"},\"glyph\":{\"id\":\"2164\"},\"hover_glyph\":null,\"muted_glyph\":null,\"nonselection_glyph\":{\"id\":\"2165\"},\"view\":{\"id\":\"2167\"}},\"id\":\"2166\",\"type\":\"GlyphRenderer\"},{\"attributes\":{},\"id\":\"2263\",\"type\":\"UnionRenderers\"},{\"attributes\":{\"fill_alpha\":{\"value\":0.1},\"fill_color\":{\"value\":\"#F7C45F\"},\"line_alpha\":{\"value\":0.1},\"line_color\":{\"value\":\"#F7C45F\"},\"top\":{\"field\":\"Ring Mean Intensity\"},\"width\":{\"value\":0.2},\"x\":{\"field\":\"Condition\",\"transform\":{\"id\":\"2151\"}}},\"id\":\"2160\",\"type\":\"VBar\"},{\"attributes\":{\"range\":{\"id\":\"2121\"},\"value\":0.25},\"id\":\"2152\",\"type\":\"Dodge\"},{\"attributes\":{\"data\":{},\"selected\":{\"id\":\"2262\"},\"selection_policy\":{\"id\":\"2261\"}},\"id\":\"2168\",\"type\":\"ColumnDataSource\"},{\"attributes\":{\"fill_color\":{\"value\":\"#D65353\"},\"line_color\":{\"value\":\"#D65353\"},\"marker\":{\"value\":\"square\"}},\"id\":\"2169\",\"type\":\"Scatter\"},{\"attributes\":{},\"id\":\"2264\",\"type\":\"Selection\"},{\"attributes\":{\"source\":{\"id\":\"2168\"}},\"id\":\"2172\",\"type\":\"CDSView\"},{\"attributes\":{\"data_source\":{\"id\":\"2117\"},\"glyph\":{\"id\":\"2159\"},\"hover_glyph\":null,\"muted_glyph\":null,\"nonselection_glyph\":{\"id\":\"2160\"},\"view\":{\"id\":\"2162\"}},\"id\":\"2161\",\"type\":\"GlyphRenderer\"},{\"attributes\":{\"range\":{\"id\":\"2121\"},\"value\":-0.25},\"id\":\"2150\",\"type\":\"Dodge\"},{\"attributes\":{\"start\":0},\"id\":\"2123\",\"type\":\"DataRange1d\"},{\"attributes\":{\"source\":{\"id\":\"2117\"}},\"id\":\"2167\",\"type\":\"CDSView\"},{\"attributes\":{},\"id\":\"2127\",\"type\":\"LinearScale\"},{\"attributes\":{\"source\":{\"id\":\"2178\"}},\"id\":\"2182\",\"type\":\"CDSView\"},{\"attributes\":{\"label\":{\"value\":\"oCircle Mean Intensity\"},\"renderers\":[{\"id\":\"2171\"}]},\"id\":\"2184\",\"type\":\"LegendItem\"},{\"attributes\":{},\"id\":\"2255\",\"type\":\"CategoricalTickFormatter\"},{\"attributes\":{\"items\":[{\"id\":\"2184\"},{\"id\":\"2185\"},{\"id\":\"2186\"}],\"location\":\"center\"},\"id\":\"2183\",\"type\":\"Legend\"},{\"attributes\":{\"range\":{\"id\":\"2121\"}},\"id\":\"2151\",\"type\":\"Dodge\"},{\"attributes\":{},\"id\":\"2256\",\"type\":\"AllLabels\"},{\"attributes\":{\"factors\":[\"MeOH\",\"TFA\",\"BASE\",\"PIP\",\"PITC\"]},\"id\":\"2121\",\"type\":\"FactorRange\"},{\"attributes\":{\"label\":{\"value\":\"Ring Mean Intensity\"},\"renderers\":[{\"id\":\"2176\"}]},\"id\":\"2185\",\"type\":\"LegendItem\"},{\"attributes\":{\"text\":\"PREX 710 Fluorescence Intensity by Incubation Conditions\"},\"id\":\"2119\",\"type\":\"Title\"},{\"attributes\":{},\"id\":\"2265\",\"type\":\"UnionRenderers\"},{\"attributes\":{},\"id\":\"2133\",\"type\":\"BasicTicker\"}],\"root_ids\":[\"2118\"]},\"title\":\"Bokeh Application\",\"version\":\"2.3.0\"}};\n",
       "  var render_items = [{\"docid\":\"62223d57-6e0c-4f5d-b7ad-c32e8e574536\",\"root_ids\":[\"2118\"],\"roots\":{\"2118\":\"161988ff-44cc-4871-a2c7-032dfa0f1899\"}}];\n",
       "  root.Bokeh.embed.embed_items_notebook(docs_json, render_items);\n",
       "\n",
       "  }\n",
       "  if (root.Bokeh !== undefined) {\n",
       "    embed_document(root);\n",
       "  } else {\n",
       "    var attempts = 0;\n",
       "    var timer = setInterval(function(root) {\n",
       "      if (root.Bokeh !== undefined) {\n",
       "        clearInterval(timer);\n",
       "        embed_document(root);\n",
       "      } else {\n",
       "        attempts++;\n",
       "        if (attempts > 100) {\n",
       "          clearInterval(timer);\n",
       "          console.log(\"Bokeh: ERROR: Unable to run BokehJS code because BokehJS library is missing\");\n",
       "        }\n",
       "      }\n",
       "    }, 10, root)\n",
       "  }\n",
       "})(window);"
      ],
      "application/vnd.bokehjs_exec.v0+json": ""
     },
     "metadata": {
      "application/vnd.bokehjs_exec.v0+json": {
       "id": "2118"
      }
     },
     "output_type": "display_data"
    }
   ],
   "source": [
    "# Combine all resulting CSV files into a single dataframe\n",
    "# TODO - can probably do this during the analysis\n",
    "\n",
    "def compile_results(pathname):\n",
    "    results_folder_path = os.path.join(os.path.join(os.path.join(os.getcwd(),pathname),'test_data_export'),'data_frame_export')\n",
    "    all_files = glob.glob(results_folder_path + '/*.csv')\n",
    "    \n",
    "    li = []\n",
    "    for filename in all_files:\n",
    "        df = pd.read_csv(filename, index_col = None, header=0)\n",
    "        li.append(df)\n",
    "    results_frame = pd.concat(li, axis=0, ignore_index=True)\n",
    "    \n",
    "    \n",
    "    simp_results_frame = results_frame[['Filename','Cy7---oCircle Intensity','Cy7---oCircle Mean Intensity','Cy7---oCircle Median Intensity','Cy7---iCircle Intensity','Cy7---iCircle Mean Intensity','Cy7---iCircle Median Intensity','Cy7---ring Intensity','Cy7---ring Mean Intensity','Cy7---ring Median Intensity']]\n",
    "    initial_grouped_results = simp_results_frame.groupby(results_frame.Filename).mean()\n",
    "    initial_grouped_results = initial_grouped_results.reset_index()\n",
    "    \n",
    "#Get average from each condition and put into own dataframe, then add all resulting averages into one dataframe\n",
    "    base = initial_grouped_results[initial_grouped_results['Filename'].str.contains('BASE')]\n",
    "    mean_base = pd.DataFrame(base.mean(axis=0).to_dict(),index=[base.index.values[-1]])\n",
    "    mean_base.insert(0,\"Condition\",\"BASE\")\n",
    "    \n",
    "    meoh = initial_grouped_results[initial_grouped_results['Filename'].str.contains('MEOH')]\n",
    "    mean_meoh = pd.DataFrame(meoh.mean(axis=0).to_dict(),index=[meoh.index.values[-1]])\n",
    "    mean_meoh.insert(0,\"Condition\",\"MeOH\")\n",
    "    \n",
    "    pip = initial_grouped_results[initial_grouped_results['Filename'].str.contains('PIP')]\n",
    "    mean_pip = pd.DataFrame(pip.mean(axis=0).to_dict(),index=[pip.index.values[-1]])\n",
    "    mean_pip.insert(0,\"Condition\",\"PIP\")\n",
    "    \n",
    "    pitc = initial_grouped_results[initial_grouped_results['Filename'].str.contains('PITC')]\n",
    "    mean_pitc = pd.DataFrame(pitc.mean(axis=0).to_dict(),index=[pitc.index.values[-1]])\n",
    "    mean_pitc.insert(0,\"Condition\",\"PITC\")\n",
    "    \n",
    "    tfa = initial_grouped_results[initial_grouped_results['Filename'].str.contains('TFA')]\n",
    "    mean_tfa = pd.DataFrame(tfa.mean(axis=0).to_dict(),index=[tfa.index.values[-1]])\n",
    "    mean_tfa.insert(0,\"Condition\",\"TFA\")\n",
    "    \n",
    "    grouped_results = pd.concat([mean_meoh, mean_tfa, mean_base, mean_pip, mean_pitc],axis=0)\n",
    "    \n",
    "    #display(grouped_results.style)\n",
    "    \n",
    "    plot_results(grouped_results)\n",
    "    \n",
    "    #output_path = os.path.join(results_folder_path,\"grouped_output.csv\")\n",
    "    #initial_grouped_results.to_csv(output_path)\n",
    "    \n",
    "    #grouped_output_path = os.path.join(results_folder_path,\"averaged_grouped_output.csv\")\n",
    "    #grouped_results.to_csv(grouped_output_path)\n",
    "    \n",
    "\n",
    "#Plot results as bar graph using Bokeh    \n",
    "def plot_results(df):\n",
    "    from bokeh.plotting import figure, output_file, show\n",
    "    from bokeh.models import ColumnDataSource\n",
    "    from bokeh.models.tools import HoverTool\n",
    "    from bokeh.transform import dodge\n",
    "    from bokeh.core.properties import value\n",
    "    from bokeh.models import Legend\n",
    "    from bokeh.io import export_png\n",
    "\n",
    "    from bokeh.palettes import Spectral5\n",
    "    from bokeh.transform import factor_cmap\n",
    "    \n",
    "    df.columns = ['Condition','oCircle Intensity', 'oCircle Mean Intensity','oCircle Median Intensity','iCircle Intensity', 'iCircle Mean Intensity','iCircle Median Intensity','Ring Intensity', 'Ring Mean Intensity','Ring Median Intensity']\n",
    "    source = ColumnDataSource(df)\n",
    "    \n",
    "    conditions = source.data['Condition'].tolist()\n",
    "    p = figure(x_range=conditions, title=\"PREX 710 Fluorescence Intensity by Incubation Conditions\", plot_width=800)\n",
    "    \n",
    "    dodge1 = dodge('Condition', -0.25, range=p.x_range)\n",
    "    dodge2 = dodge('Condition', 0.0, range=p.x_range)\n",
    "    dodge3 = dodge('Condition', 0.25, range=p.x_range)\n",
    "    \n",
    "    p.vbar(x=dodge1, top='oCircle Mean Intensity', width = 0.2, source=source, color='#D65353')\n",
    "    p.vbar(x=dodge2, top='Ring Mean Intensity', width = 0.2, source=source, color='#F7C45F')\n",
    "    p.vbar(x=dodge3, top='iCircle Mean Intensity', width = 0.2, source=source, color='#28364A')\n",
    "    \n",
    "    legO=p.square(color='#D65353')\n",
    "    legR=p.square(color='#F7C45F')\n",
    "    legI=p.square(color='#28364A')\n",
    "    \n",
    "    legend = Legend(items=[\n",
    "        ('oCircle Mean Intensity', [legO]),\n",
    "        ('Ring Mean Intensity', [legR]),\n",
    "        ('iCircle Mean Intensity', [legI])\n",
    "    ], location = \"center\")\n",
    "    \n",
    "    p.add_layout(legend,'right')\n",
    "    p.background_fill_color = None\n",
    "    p.border_fill_color = None\n",
    "    \n",
    "    #p.legend.location='bottom'\n",
    "    #p.legend.orientation='vertical'\n",
    "    p.y_range.start = 0\n",
    "    \n",
    "    show(p)\n",
    "\n",
    "    \n",
    "    \n",
    "compile_results(\"PREX710\")"
   ]
  },
  {
   "cell_type": "code",
   "execution_count": null,
   "metadata": {},
   "outputs": [],
   "source": []
  }
 ],
 "metadata": {
  "kernelspec": {
   "display_name": "ErisyonEnv",
   "language": "python",
   "name": "erisyonenv"
  },
  "language_info": {
   "codemirror_mode": {
    "name": "ipython",
    "version": 3
   },
   "file_extension": ".py",
   "mimetype": "text/x-python",
   "name": "python",
   "nbconvert_exporter": "python",
   "pygments_lexer": "ipython3",
   "version": "3.8.5"
  }
 },
 "nbformat": 4,
 "nbformat_minor": 4
}
